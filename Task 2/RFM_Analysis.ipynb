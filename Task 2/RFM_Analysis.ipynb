{
 "cells": [
  {
   "cell_type": "code",
   "execution_count": 14,
   "id": "0be06215",
   "metadata": {},
   "outputs": [],
   "source": [
    "import pandas as pd\n",
    "\n",
    "# ===== Step 1: Create sales dataset =====\n",
    "data = {\n",
    "    'CustomerID': [101, 102, 101, 103, 104, 102],\n",
    "    'InvoiceDate': ['2024-07-01', '2024-07-05', '2024-07-10',\n",
    "                    '2024-06-15', '2024-06-20', '2024-07-15'],\n",
    "    'Amount': [200, 150, 300, 250, 100, 200]\n",
    "}\n",
    "\n",
    "df = pd.DataFrame(data)"
   ]
  },
  {
   "cell_type": "code",
   "execution_count": 15,
   "id": "18ba4204",
   "metadata": {},
   "outputs": [],
   "source": [
    "# Convert InvoiceDate from text to datetime\n",
    "df['InvoiceDate'] = pd.to_datetime(df['InvoiceDate'])"
   ]
  },
  {
   "cell_type": "code",
   "execution_count": 16,
   "id": "38cc07d2",
   "metadata": {},
   "outputs": [],
   "source": [
    "# ===== Step 2: Set a \"today\" date for Recency calculation =====\n",
    "today = df['InvoiceDate'].max() + pd.Timedelta(days=1)"
   ]
  },
  {
   "cell_type": "code",
   "execution_count": 17,
   "id": "0066ca66",
   "metadata": {},
   "outputs": [],
   "source": [
    "# ===== Step 3: Calculate Recency, Frequency, Monetary =====\n",
    "rfm = df.groupby('CustomerID').agg(\n",
    "    Recency=('InvoiceDate', lambda x: (today - x.max()).days),  # Days since last purchase\n",
    "    Frequency=('InvoiceDate', 'count'),                        # Number of purchases\n",
    "    Monetary=('Amount', 'sum')                                 # Total amount spent\n",
    ").reset_index()"
   ]
  },
  {
   "cell_type": "code",
   "execution_count": 18,
   "id": "7b8c77b9",
   "metadata": {},
   "outputs": [],
   "source": [
    "# ===== Step 4: Assign customer segments =====\n",
    "def get_segment(row):\n",
    "    if row['Recency'] <= 7 and row['Frequency'] >= 2:\n",
    "        return 'Champion'\n",
    "    elif row['Recency'] <= 15:\n",
    "        return 'Loyal Customer'\n",
    "    else:\n",
    "        return 'Needs Attention'\n",
    "\n",
    "rfm['Segment'] = rfm.apply(get_segment, axis=1)"
   ]
  },
  {
   "cell_type": "code",
   "execution_count": 19,
   "id": "91d8aa98",
   "metadata": {},
   "outputs": [
    {
     "name": "stdout",
     "output_type": "stream",
     "text": [
      "   CustomerID  Recency  Frequency  Monetary          Segment\n",
      "0         101        6          2       500         Champion\n",
      "1         102        1          2       350         Champion\n",
      "2         103       31          1       250  Needs Attention\n",
      "3         104       26          1       100  Needs Attention\n"
     ]
    }
   ],
   "source": [
    "# ===== Step 5: Display final RFM table =====\n",
    "print(rfm)"
   ]
  }
 ],
 "metadata": {
  "kernelspec": {
   "display_name": "Python 3 (ipykernel)",
   "language": "python",
   "name": "python3"
  },
  "language_info": {
   "codemirror_mode": {
    "name": "ipython",
    "version": 3
   },
   "file_extension": ".py",
   "mimetype": "text/x-python",
   "name": "python",
   "nbconvert_exporter": "python",
   "pygments_lexer": "ipython3",
   "version": "3.9.7"
  }
 },
 "nbformat": 4,
 "nbformat_minor": 5
}
