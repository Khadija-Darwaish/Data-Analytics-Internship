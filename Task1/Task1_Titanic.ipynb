{
 "cells": [
  {
   "cell_type": "code",
   "execution_count": 1,
   "id": "2bcc43fd",
   "metadata": {},
   "outputs": [],
   "source": [
    "import pandas as pd\n",
    "import numpy as np\n",
    "import matplotlib.pyplot as plt\n",
    "import seaborn as sns"
   ]
  },
  {
   "cell_type": "code",
   "execution_count": 3,
   "id": "9ab7c78b",
   "metadata": {},
   "outputs": [],
   "source": [
    "df = pd.read_csv(r'C:\\Users\\DELL\\Downloads\\titanic.csv')"
   ]
  },
  {
   "cell_type": "code",
   "execution_count": 5,
   "id": "45933bd8",
   "metadata": {},
   "outputs": [
    {
     "name": "stdout",
     "output_type": "stream",
     "text": [
      "(418, 12)\n"
     ]
    }
   ],
   "source": [
    "print(df.shape)"
   ]
  },
  {
   "cell_type": "code",
   "execution_count": 6,
   "id": "a3b1bded",
   "metadata": {},
   "outputs": [
    {
     "name": "stdout",
     "output_type": "stream",
     "text": [
      "Index(['PassengerId', 'Survived', 'Pclass', 'Name', 'Sex', 'Age', 'SibSp',\n",
      "       'Parch', 'Ticket', 'Fare', 'Cabin', 'Embarked'],\n",
      "      dtype='object')\n"
     ]
    }
   ],
   "source": [
    "print(df.columns)"
   ]
  },
  {
   "cell_type": "code",
   "execution_count": 7,
   "id": "47aaaa3d",
   "metadata": {},
   "outputs": [
    {
     "name": "stdout",
     "output_type": "stream",
     "text": [
      "<class 'pandas.core.frame.DataFrame'>\n",
      "RangeIndex: 418 entries, 0 to 417\n",
      "Data columns (total 12 columns):\n",
      " #   Column       Non-Null Count  Dtype  \n",
      "---  ------       --------------  -----  \n",
      " 0   PassengerId  418 non-null    int64  \n",
      " 1   Survived     418 non-null    int64  \n",
      " 2   Pclass       418 non-null    int64  \n",
      " 3   Name         418 non-null    object \n",
      " 4   Sex          418 non-null    object \n",
      " 5   Age          332 non-null    float64\n",
      " 6   SibSp        418 non-null    int64  \n",
      " 7   Parch        418 non-null    int64  \n",
      " 8   Ticket       418 non-null    object \n",
      " 9   Fare         417 non-null    float64\n",
      " 10  Cabin        91 non-null     object \n",
      " 11  Embarked     418 non-null    object \n",
      "dtypes: float64(2), int64(5), object(5)\n",
      "memory usage: 39.3+ KB\n",
      "None\n"
     ]
    }
   ],
   "source": [
    "print(df.info())"
   ]
  },
  {
   "cell_type": "code",
   "execution_count": 8,
   "id": "2a06ac01",
   "metadata": {},
   "outputs": [
    {
     "name": "stdout",
     "output_type": "stream",
     "text": [
      "        PassengerId    Survived      Pclass              Name   Sex  \\\n",
      "count    418.000000  418.000000  418.000000               418   418   \n",
      "unique          NaN         NaN         NaN               418     2   \n",
      "top             NaN         NaN         NaN  Kelly, Mr. James  male   \n",
      "freq            NaN         NaN         NaN                 1   266   \n",
      "mean    1100.500000    0.363636    2.265550               NaN   NaN   \n",
      "std      120.810458    0.481622    0.841838               NaN   NaN   \n",
      "min      892.000000    0.000000    1.000000               NaN   NaN   \n",
      "25%      996.250000    0.000000    1.000000               NaN   NaN   \n",
      "50%     1100.500000    0.000000    3.000000               NaN   NaN   \n",
      "75%     1204.750000    1.000000    3.000000               NaN   NaN   \n",
      "max     1309.000000    1.000000    3.000000               NaN   NaN   \n",
      "\n",
      "               Age       SibSp       Parch    Ticket        Fare  \\\n",
      "count   332.000000  418.000000  418.000000       418  417.000000   \n",
      "unique         NaN         NaN         NaN       363         NaN   \n",
      "top            NaN         NaN         NaN  PC 17608         NaN   \n",
      "freq           NaN         NaN         NaN         5         NaN   \n",
      "mean     30.272590    0.447368    0.392344       NaN   35.627188   \n",
      "std      14.181209    0.896760    0.981429       NaN   55.907576   \n",
      "min       0.170000    0.000000    0.000000       NaN    0.000000   \n",
      "25%      21.000000    0.000000    0.000000       NaN    7.895800   \n",
      "50%      27.000000    0.000000    0.000000       NaN   14.454200   \n",
      "75%      39.000000    1.000000    0.000000       NaN   31.500000   \n",
      "max      76.000000    8.000000    9.000000       NaN  512.329200   \n",
      "\n",
      "                  Cabin Embarked  \n",
      "count                91      418  \n",
      "unique               76        3  \n",
      "top     B57 B59 B63 B66        S  \n",
      "freq                  3      270  \n",
      "mean                NaN      NaN  \n",
      "std                 NaN      NaN  \n",
      "min                 NaN      NaN  \n",
      "25%                 NaN      NaN  \n",
      "50%                 NaN      NaN  \n",
      "75%                 NaN      NaN  \n",
      "max                 NaN      NaN  \n"
     ]
    }
   ],
   "source": [
    "print(df.describe(include='all'))"
   ]
  },
  {
   "cell_type": "markdown",
   "id": "f207a7d5",
   "metadata": {},
   "source": [
    "# DATA CLEANING"
   ]
  },
  {
   "cell_type": "code",
   "execution_count": 9,
   "id": "45effa40",
   "metadata": {},
   "outputs": [
    {
     "name": "stdout",
     "output_type": "stream",
     "text": [
      "PassengerId      0\n",
      "Survived         0\n",
      "Pclass           0\n",
      "Name             0\n",
      "Sex              0\n",
      "Age             86\n",
      "SibSp            0\n",
      "Parch            0\n",
      "Ticket           0\n",
      "Fare             1\n",
      "Cabin          327\n",
      "Embarked         0\n",
      "dtype: int64\n"
     ]
    }
   ],
   "source": [
    "print(df.isnull().sum())"
   ]
  },
  {
   "cell_type": "code",
   "execution_count": 11,
   "id": "fde7f788",
   "metadata": {},
   "outputs": [],
   "source": [
    "# Fill Age with median\n",
    "df['Age'].fillna(df['Age'].median(), inplace=True)"
   ]
  },
  {
   "cell_type": "code",
   "execution_count": 12,
   "id": "5d2e92cd",
   "metadata": {},
   "outputs": [],
   "source": [
    "# Fill Fare with median\n",
    "df['Fare'].fillna(df['Fare'].median(), inplace=True)"
   ]
  },
  {
   "cell_type": "code",
   "execution_count": 13,
   "id": "737be48a",
   "metadata": {},
   "outputs": [],
   "source": [
    "# Drop Cabin due to too many missing values\n",
    "df.drop(columns=['Cabin'], inplace=True)"
   ]
  },
  {
   "cell_type": "code",
   "execution_count": 14,
   "id": "9e7f397c",
   "metadata": {},
   "outputs": [],
   "source": [
    "# Convert Survived and Pclass to category\n",
    "df['Survived'] = df['Survived'].astype('category')\n",
    "df['Pclass'] = df['Pclass'].astype('category')"
   ]
  },
  {
   "cell_type": "code",
   "execution_count": 15,
   "id": "3850978c",
   "metadata": {},
   "outputs": [
    {
     "name": "stdout",
     "output_type": "stream",
     "text": [
      "male      266\n",
      "female    152\n",
      "Name: Sex, dtype: int64\n"
     ]
    }
   ],
   "source": [
    "# Gender Distribution\n",
    "print(df['Sex'].value_counts())"
   ]
  },
  {
   "cell_type": "code",
   "execution_count": 16,
   "id": "bd61cf8d",
   "metadata": {},
   "outputs": [
    {
     "name": "stdout",
     "output_type": "stream",
     "text": [
      "S    270\n",
      "C    102\n",
      "Q     46\n",
      "Name: Embarked, dtype: int64\n"
     ]
    }
   ],
   "source": [
    "# Embarked Breakdown\n",
    "print(df['Embarked'].value_counts())"
   ]
  },
  {
   "cell_type": "markdown",
   "id": "d611bfed",
   "metadata": {},
   "source": [
    "# VISUALIZATION"
   ]
  },
  {
   "cell_type": "code",
   "execution_count": 17,
   "id": "f080ccee",
   "metadata": {},
   "outputs": [
    {
     "data": {
      "image/png": "[encoded data removed]",
      "text/plain": [
       "<Figure size 432x288 with 1 Axes>"
      ]
     },
     "metadata": {
      "needs_background": "light"
     },
     "output_type": "display_data"
    }
   ],
   "source": [
    "# Survival count by gender\n",
    "sns.countplot(data=df, x='Sex', hue='Survived')\n",
    "plt.title('Survival Count by Gender')\n",
    "plt.show()"
   ]
  },
  {
   "cell_type": "code",
   "execution_count": 20,
   "id": "adc68513",
   "metadata": {},
   "outputs": [
    {
     "data": {
      "image/png": "[encoded data removed]",
      "text/plain": [
       "<Figure size 432x288 with 1 Axes>"
      ]
     },
     "metadata": {
      "needs_background": "light"
     },
     "output_type": "display_data"
    }
   ],
   "source": [
    "# Survival rate by class\n",
    "sns.barplot(data=df, x='Pclass', y=df['Survived'].astype(float))\n",
    "plt.title('Survival Rate by Passenger Class')\n",
    "plt.show()"
   ]
  },
  {
   "cell_type": "code",
   "execution_count": 21,
   "id": "f954d537",
   "metadata": {},
   "outputs": [
    {
     "data": {
      "image/png": "[encoded data removed]",
      "text/plain": [
       "<Figure size 432x288 with 1 Axes>"
      ]
     },
     "metadata": {
      "needs_background": "light"
     },
     "output_type": "display_data"
    }
   ],
   "source": [
    "# Age distribution by survival\n",
    "sns.histplot(data=df, x='Age', hue='Survived', bins=30, kde=True)\n",
    "plt.title('Age Distribution by Survival')\n",
    "plt.show()"
   ]
  },
  {
   "cell_type": "code",
   "execution_count": 23,
   "id": "7a1960f8",
   "metadata": {},
   "outputs": [
    {
     "data": {
      "image/png": "[encoded data removed]",
      "text/plain": [
       "<Figure size 432x288 with 2 Axes>"
      ]
     },
     "metadata": {
      "needs_background": "light"
     },
     "output_type": "display_data"
    }
   ],
   "source": [
    "# Select only numeric columns\n",
    "numeric_df = df.select_dtypes(include='number')\n",
    "\n",
    "# Compute correlation matrix\n",
    "corr = numeric_df.corr()\n",
    "\n",
    "# Plot heatmap\n",
    "sns.heatmap(corr, annot=True, cmap='coolwarm')\n",
    "plt.title('Correlation Heatmap')\n",
    "plt.show()"
   ]
  },
  {
   "cell_type": "code",
   "execution_count": null,
   "id": "a04bc576",
   "metadata": {},
   "outputs": [],
   "source": []
  }
 ],
 "metadata": {
  "kernelspec": {
   "display_name": "Python 3 (ipykernel)",
   "language": "python",
   "name": "python3"
  },
  "language_info": {
   "codemirror_mode": {
    "name": "ipython",
    "version": 3
   },
   "file_extension": ".py",
   "mimetype": "text/x-python",
   "name": "python",
   "nbconvert_exporter": "python",
   "pygments_lexer": "ipython3",
   "version": "3.9.7"
  }
 },
 "nbformat": 4,
 "nbformat_minor": 5
}
